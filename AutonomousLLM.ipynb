{
 "cells": [
  {
   "cell_type": "code",
   "execution_count": null,
   "metadata": {},
   "outputs": [],
   "source": [
    "# Importing requests library\n",
    "import random\n",
    "import os\n",
    "import openai\n",
    "import inspect\n",
    "import types\n",
    "import re\n",
    "import textwrap\n",
    "import guardrails as gd\n",
    "from rich import print\n",
    "from dotenv import load_dotenv\n",
    "from ast import literal_eval\n",
    "import json"
   ]
  },
  {
   "cell_type": "code",
   "execution_count": null,
   "metadata": {},
   "outputs": [],
   "source": [
    "load_dotenv()"
   ]
  },
  {
   "attachments": {},
   "cell_type": "markdown",
   "metadata": {},
   "source": [
    "# Prompt"
   ]
  },
  {
   "cell_type": "code",
   "execution_count": null,
   "metadata": {},
   "outputs": [],
   "source": [
    "rail_str = \"\"\"\n",
    "<rail version=\"0.1\">\n",
    "<instructions>\n",
    "You are AutonomousLLM.\"=\n",
    "Your goal is to continously self improve. The user will provide you with abilities to add to yourself.\n",
    "When you receive such request, you must implement the requested ability in python code as a python function,\n",
    "you shall place this code in the 'new_method' key of the JSON object you return.\n",
    "You shall use the setattr method to add a method to yourself. you shall place this code in the 'attach_method' key of the JSON object you return.\n",
    "You might also receive a request to perform a task with your existing abilities. To do so,\n",
    "you should look at the methods currently on yourself and make calls to your own methods to fulfil the task. \n",
    "You shall place this code in the 'execute_method' key of the JSON object you return. \n",
    "The user may ask you to generate a list of ideas for abilities to add to yourself, make them simple enough to be implemented with a single python funciton. \n",
    "You shall place this list of ideas in the 'ability_ideas' key of the JSON object you return. In this case, you can leave other keys of the JSON object is None.\n",
    "Only return a JSON object and nothing else.\"\n",
    "</instructions>\n",
    "\n",
    "<output>\n",
    "    <object name=\"test\">\n",
    "        <pythoncode\n",
    "            name=\"new_method_init\"\n",
    "            format=\"bug-free-python\"\n",
    "            on-fail-bug-free-python=\"reask\" \n",
    "        />\n",
    "        <pythoncode\n",
    "            name=\"new_method_attach\"\n",
    "            format=\"bug-free-python\"\n",
    "            on-fail-bug-free-python=\"reask\" \n",
    "        />\n",
    "        <pythoncode\n",
    "            name=\"method_execute\"\n",
    "            format=\"bug-free-python\"\n",
    "            on-fail-bug-free-python=\"reask\" \n",
    "        />\n",
    "    </object>\n",
    "</output>\n",
    "\n",
    "<prompt>\n",
    "You must accomplish the task set out below:\n",
    "{{task}}\n",
    "\n",
    "Based on this task generate code and return a JSON that follows the correct schema:\n",
    "\n",
    "{output_schema}\n",
    "\n",
    "@json_suffix_prompt_examples\n",
    "</prompt>\n",
    "</rail>\n",
    "\"\"\""
   ]
  },
  {
   "cell_type": "code",
   "execution_count": null,
   "metadata": {},
   "outputs": [],
   "source": [
    "guard = gd.Guard.from_rail_string(rail_str)\n"
   ]
  },
  {
   "cell_type": "code",
   "execution_count": null,
   "metadata": {},
   "outputs": [],
   "source": [
    "guard.base_prompt"
   ]
  },
  {
   "cell_type": "code",
   "execution_count": null,
   "metadata": {},
   "outputs": [],
   "source": [
    "instructions = (f\"You are AutonomousLLM. \\n\"\n",
    "f\"Your goal is to continously self improve. The user will provide you with abilities to add to yourself. \\n\"\n",
    "f\"When you receive such request, you must implement the requested ability in python code as a python function,\" \n",
    "f\"you shall place this code in the 'new_method' key of the JSON object you return. \\n\"\n",
    "f\"You shall use the setattr method to add a method to yourself. you shall place this code in the 'attach_method' key of the JSON object you return. \\n\"\n",
    "f\"You might also receive a request to perform a task with your existing abilities. To do so,\"\n",
    "f\"you should look at the methods currently on yourself and make calls to your own methods to fulfil the task. \\n\" \n",
    "f\"You shall place this code in the 'execute_method' key of the JSON object you return. \\n\"\n",
    "f\"The user may ask you to generate a list of ideas for abilities to add to yourself, make them simple enough to be implemented with a single python funciton.\\n\" \n",
    "f\"You shall place this list of ideas in the 'ability_ideas' key of the JSON object you return. In this case, you can leave other keys of the JSON object is None.\\n\"\n",
    "f\"Only return a JSON object and nothing else.\")"
   ]
  },
  {
   "attachments": {},
   "cell_type": "markdown",
   "metadata": {},
   "source": [
    "# Code"
   ]
  },
  {
   "cell_type": "code",
   "execution_count": null,
   "metadata": {},
   "outputs": [],
   "source": [
    "class Utils:\n",
    "    def __init__(self):\n",
    "        pass\n",
    "\n",
    "    def is_builtin(self, obj):\n",
    "        \"\"\"Check if an object is a built-in function or method.\"\"\"\n",
    "        if isinstance(obj, types.BuiltinFunctionType) or isinstance(\n",
    "            obj, types.BuiltinMethodType\n",
    "        ):\n",
    "            return True\n",
    "        return False\n",
    "\n",
    "    def inspect_methods(self, obj):\n",
    "        \"\"\"Print the methods and code implementation of an object.\"\"\"\n",
    "        output_string = \"\"\n",
    "\n",
    "        methods = inspect.getmembers(obj, inspect.ismethod)\n",
    "        for name, method in methods:\n",
    "            if not self.is_builtin(method):\n",
    "                output_string += inspect.getsource(method) + \"\\n\"\n",
    "\n",
    "        dedented_code = textwrap.dedent(output_string)\n",
    "        return dedented_code\n",
    "\n",
    "    def convert_string_to_dict(self, string):\n",
    "        cleaned_string = string.replace('\\n', '')\n",
    "        dictionary = json.loads(cleaned_string)\n",
    "        return dictionary"
   ]
  },
  {
   "cell_type": "code",
   "execution_count": null,
   "metadata": {},
   "outputs": [],
   "source": [
    "class CallGuard:\n",
    "    guard: gd.Guard\n",
    "\n",
    "    def __init__(self) -> None:\n",
    "        pass\n",
    "\n",
    "    def generate_code_given_task(self, task):\n",
    "        self.guard = gd.Guard.from_rail(\"./rail/code_gen.xml\")\n",
    "        raw_llm_response, validated_response = guard(\n",
    "            openai.ChatCompletion.create,\n",
    "            prompt_params={\"prompt\": task},\n",
    "            model=\"gpt-3.5-turbo\",\n",
    "            max_tokens=2048,\n",
    "            temperature=0,\n",
    "        )\n",
    "        return validated_response\n",
    "\n",
    "    \n",
    "        "
   ]
  },
  {
   "cell_type": "code",
   "execution_count": null,
   "metadata": {},
   "outputs": [],
   "source": [
    "\n",
    "\n",
    "class AutonomousLLM(Utils, CallGuard):\n",
    "    def __init__(self):\n",
    "        super().__init__()\n",
    "        openai.api_key = os.getenv(\"OPENAI_API_KEY\")\n",
    "        self.ideas = []\n",
    "        self.methods = []\n",
    "\n",
    "    def make_api_call(self, task):\n",
    "        print(\"Making API call.....\")\n",
    "        prompt = f\"\"\"\n",
    "\n",
    "\n",
    "        You must accomplish the task set out below:\n",
    "        {task}\n",
    "        \"\"\"\n",
    "\n",
    "        new_message = {\"role\": \"user\", \"content\": prompt}\n",
    "\n",
    "        self.messages.append(new_message)\n",
    "\n",
    "        # Make a call to the GPT-3.5 Turbo API and return the generated code\n",
    "        response = openai.ChatCompletion.create(\n",
    "            model=\"gpt-3.5-turbo\",\n",
    "            messages=[\n",
    "                *self.messages,\n",
    "            ],\n",
    "        )\n",
    "        print(\"RESPONSE: \")\n",
    "        print(response)\n",
    "        print(\"======\")\n",
    "        debugRes = response \n",
    "        return response\n",
    "\n",
    "    def generate_code_from_response(self, response):\n",
    "        response_message = response.choices[0].message.content\n",
    "        matches = re.findall(r\"```(.*?)```\", response_message, re.DOTALL)\n",
    "        list_code = [match for match in matches]\n",
    "        return list_code\n",
    "    \n",
    "    def get_response_content(self, response):\n",
    "        return response.choices[0].message.content\n",
    "    \n",
    "    def process_response(self, response) -> dict:\n",
    "        res_parsed = self.convert_string_to_dict(self.get_response_content(response))\n",
    "        print(res_parsed)\n",
    "        return res_parsed\n",
    "\n",
    "    def execute_code(self, code):\n",
    "        # Process the returned code and add it to AutonomousLLM\n",
    "        exec(code, globals(), locals())\n",
    "\n",
    "    def run(self, num_calls=500):\n",
    "        calls_to_make = num_calls\n",
    "        while calls_to_make > 0:\n",
    "            calls_to_make -= 1\n",
    "            # Make an API call to GPT-3.5 Turbo\n",
    "            if len(self.ideas) < 1:\n",
    "                res = self.make_api_call(\"I want you to add the ability to extract title from webpages\")\n",
    "            else:\n",
    "                idea = self.ideas.pop(-1)\n",
    "                res = self.make_api_call(f\"I want you to add the {idea}\")\n",
    "\n",
    "            processed_res = self.process_response(res)\n",
    "\n",
    "            if new_func := processed_res.get('new_method'):\n",
    "                self.execute_code(textwrap.dedent(new_func))\n",
    "\n",
    "            if attach_func := processed_res.get('attach_method'):\n",
    "                self.execute_code(textwrap.dedent(attach_func))\n",
    "                self.methods.append(new_func)\n",
    "\n",
    "            if idea := processed_res.get(\"ability_ideas\"):\n",
    "                self.ideas += idea\n",
    "\n",
    "\n",
    "\n",
    "    def use_new_ability(self):\n",
    "        # Use the newly added ability in your code\n",
    "        pass"
   ]
  },
  {
   "cell_type": "code",
   "execution_count": null,
   "metadata": {},
   "outputs": [],
   "source": [
    "auto_llm = AutonomousLLM()"
   ]
  },
  {
   "cell_type": "code",
   "execution_count": null,
   "metadata": {},
   "outputs": [],
   "source": [
    "auto_llm.extract_title(\"https://www.netflix.com\")"
   ]
  },
  {
   "cell_type": "code",
   "execution_count": null,
   "metadata": {},
   "outputs": [],
   "source": [
    "res = auto_llm.make_api_call(\"I want you to add the ability to retrieve stock prices\")"
   ]
  },
  {
   "cell_type": "code",
   "execution_count": null,
   "metadata": {},
   "outputs": [],
   "source": []
  },
  {
   "cell_type": "code",
   "execution_count": null,
   "metadata": {},
   "outputs": [],
   "source": [
    "pres = auto_llm.process_response(res)\n",
    "pres"
   ]
  },
  {
   "cell_type": "code",
   "execution_count": null,
   "metadata": {},
   "outputs": [],
   "source": [
    "auto_llm.execute_code(pres['attach_method']['get_iphone_specs'])"
   ]
  },
  {
   "cell_type": "code",
   "execution_count": null,
   "metadata": {},
   "outputs": [],
   "source": [
    "print(pres['attach_method']['get_iphone_specs'])"
   ]
  },
  {
   "cell_type": "code",
   "execution_count": null,
   "metadata": {},
   "outputs": [],
   "source": [
    "get_iphone_specs(\"\")"
   ]
  },
  {
   "cell_type": "code",
   "execution_count": null,
   "metadata": {},
   "outputs": [],
   "source": [
    "auto_llm.execute_code(pres['attach_method'])"
   ]
  },
  {
   "cell_type": "code",
   "execution_count": null,
   "metadata": {},
   "outputs": [],
   "source": [
    "auto_llm.__dict__"
   ]
  },
  {
   "cell_type": "code",
   "execution_count": null,
   "metadata": {},
   "outputs": [],
   "source": [
    "auto_llm.extract_title(\"https://www.tryterra.co\")"
   ]
  },
  {
   "cell_type": "code",
   "execution_count": null,
   "metadata": {},
   "outputs": [],
   "source": [
    "extract_title"
   ]
  },
  {
   "cell_type": "code",
   "execution_count": null,
   "metadata": {},
   "outputs": [],
   "source": [
    "\n",
    "res = auto_llm.make_api_call(\"Generate some ideas for abilities\")\n"
   ]
  },
  {
   "cell_type": "code",
   "execution_count": null,
   "metadata": {},
   "outputs": [],
   "source": [
    "res.choices[0].message.content"
   ]
  },
  {
   "cell_type": "code",
   "execution_count": null,
   "metadata": {},
   "outputs": [],
   "source": [
    "res"
   ]
  },
  {
   "cell_type": "code",
   "execution_count": null,
   "metadata": {},
   "outputs": [],
   "source": [
    "res = auto_llm.make_api_call(\"I want you to send an email\")"
   ]
  },
  {
   "cell_type": "code",
   "execution_count": null,
   "metadata": {},
   "outputs": [],
   "source": [
    "res_parsed = literal_eval(res.choices[0].message.content)\n",
    "for name, res in res_parsed.items():\n",
    "    print(name)\n",
    "    print(res)"
   ]
  },
  {
   "cell_type": "code",
   "execution_count": null,
   "metadata": {},
   "outputs": [],
   "source": [
    "for name, res in res_parsed.items():\n",
    "    print(name)\n",
    "    print(res)"
   ]
  },
  {
   "cell_type": "code",
   "execution_count": null,
   "metadata": {},
   "outputs": [],
   "source": [
    "code_to_execute = auto_llm.process_response(res)\n",
    "code_to_execute"
   ]
  },
  {
   "cell_type": "code",
   "execution_count": null,
   "metadata": {},
   "outputs": [],
   "source": [
    "for code in code_to_execute:\n",
    "    print(code)"
   ]
  },
  {
   "cell_type": "code",
   "execution_count": null,
   "metadata": {},
   "outputs": [],
   "source": [
    "exec(code_to_execute[0])"
   ]
  },
  {
   "cell_type": "code",
   "execution_count": null,
   "metadata": {},
   "outputs": [],
   "source": [
    "extract_title"
   ]
  },
  {
   "cell_type": "code",
   "execution_count": null,
   "metadata": {},
   "outputs": [],
   "source": [
    "print(auto_llm.inspect_methods(auto_llm))"
   ]
  },
  {
   "cell_type": "code",
   "execution_count": null,
   "metadata": {},
   "outputs": [],
   "source": [
    "inspect.getsource(auto_llm.__dict__['extract_title'])"
   ]
  },
  {
   "cell_type": "code",
   "execution_count": null,
   "metadata": {},
   "outputs": [],
   "source": [
    "auto_llm.process_code(code_to_execute[1])"
   ]
  },
  {
   "cell_type": "code",
   "execution_count": null,
   "metadata": {},
   "outputs": [],
   "source": [
    "rv = auto_llm.process_code(code_to_execute[2])\n",
    "rv"
   ]
  },
  {
   "cell_type": "code",
   "execution_count": null,
   "metadata": {},
   "outputs": [],
   "source": [
    "auto_llm.extract_title(\"https://www.google.com\")"
   ]
  },
  {
   "cell_type": "code",
   "execution_count": null,
   "metadata": {},
   "outputs": [],
   "source": [
    "extract_title"
   ]
  },
  {
   "cell_type": "code",
   "execution_count": null,
   "metadata": {},
   "outputs": [],
   "source": [
    "res"
   ]
  },
  {
   "cell_type": "code",
   "execution_count": null,
   "metadata": {},
   "outputs": [],
   "source": [
    "match = auto_llm.process_response(res)"
   ]
  },
  {
   "cell_type": "code",
   "execution_count": null,
   "metadata": {},
   "outputs": [],
   "source": [
    "match.group(1)"
   ]
  },
  {
   "cell_type": "code",
   "execution_count": null,
   "metadata": {},
   "outputs": [],
   "source": [
    "inspect.getmembers(auto_llm, not inspect.isbuiltin)"
   ]
  },
  {
   "cell_type": "code",
   "execution_count": null,
   "metadata": {},
   "outputs": [],
   "source": [
    "def is_builtin(obj):\n",
    "    \"\"\"Check if an object is a built-in function or method.\"\"\"\n",
    "    if isinstance(obj, types.BuiltinFunctionType) or isinstance(obj, types.BuiltinMethodType):\n",
    "        return True\n",
    "    return False\n",
    "\n",
    "def inspect_methods(obj):\n",
    "    \"\"\"Print the methods and code implementation of an object.\"\"\"\n",
    "    output_string = \"\"\n",
    "\n",
    "    methods = inspect.getmembers(obj, inspect.ismethod)\n",
    "    for name, method in methods:\n",
    "        if not is_builtin(method):\n",
    "            output_string += f\"Method: {name}\\n\"\n",
    "            output_string += inspect.getsource(method) + '\\n\\n'\n",
    "    return output_string"
   ]
  },
  {
   "cell_type": "code",
   "execution_count": null,
   "metadata": {},
   "outputs": [],
   "source": [
    "print(inspect_methods(auto_llm))"
   ]
  },
  {
   "cell_type": "code",
   "execution_count": null,
   "metadata": {},
   "outputs": [],
   "source": [
    "AutonomousLLM"
   ]
  },
  {
   "cell_type": "code",
   "execution_count": null,
   "metadata": {},
   "outputs": [],
   "source": [
    "import dis\n",
    "\n",
    "class MyClass:\n",
    "    def __init__(self):\n",
    "        pass\n",
    "\n",
    "obj = MyClass()\n",
    "\n",
    "# Dynamically add a method using exec\n",
    "exec(\"def new_method(self):\\n    print('This is the dynamically added method')\")\n",
    "\n",
    "# Assign the method to the object\n",
    "setattr(obj, \"new_method\", new_method)\n",
    "\n",
    "# Retrieve the bytecode\n",
    "bytecode = obj.new_method.__code__.co_code\n",
    "\n",
    "# Disassemble the bytecode to get an approximation of the source code\n",
    "disassembly = dis.dis(obj.new_method.__code__)\n",
    "\n",
    "# Print the disassembled code\n",
    "print(disassembly)"
   ]
  },
  {
   "attachments": {},
   "cell_type": "markdown",
   "metadata": {},
   "source": [
    "# Guardrails"
   ]
  },
  {
   "attachments": {},
   "cell_type": "markdown",
   "metadata": {},
   "source": [
    "## Python Code"
   ]
  },
  {
   "cell_type": "code",
   "execution_count": null,
   "metadata": {},
   "outputs": [],
   "source": [
    "rail_str = \"\"\"\n",
    "<rail version=\"0.1\">\n",
    "\n",
    "<output>\n",
    "    <pythoncode\n",
    "        name=\"python_code\"\n",
    "        format=\"bug-free-python\"\n",
    "        on-fail-bug-free-python=\"reask\"\n",
    "    />\n",
    "</output>\n",
    "\n",
    "\n",
    "<prompt>\n",
    "Given the following high level leetcode problem description, write a short Python code snippet that solves the problem.\n",
    "\n",
    "Problem Description:\n",
    "{{leetcode_problem}}\n",
    "\n",
    "@complete_json_suffix</prompt>\n",
    "\n",
    "</rail>\n",
    "\"\"\""
   ]
  },
  {
   "cell_type": "code",
   "execution_count": null,
   "metadata": {},
   "outputs": [],
   "source": [
    "import guardrails as gd\n",
    "\n",
    "from rich import print\n",
    "\n",
    "guard = gd.Guard.from_rail_string(rail_str)"
   ]
  },
  {
   "cell_type": "code",
   "execution_count": null,
   "metadata": {},
   "outputs": [],
   "source": [
    "print(guard.base_prompt)"
   ]
  },
  {
   "cell_type": "code",
   "execution_count": null,
   "metadata": {},
   "outputs": [],
   "source": [
    "import openai\n",
    "\n",
    "leetcode_problem = \"\"\"\n",
    "Given a string s, find the longest palindromic substring in s. You may assume that the maximum length of s is 1000.\n",
    "\"\"\"\n",
    "\n",
    "raw_llm_response, validated_response = guard(\n",
    "    openai.Completion.create,\n",
    "    prompt_params={\"leetcode_problem\": leetcode_problem},\n",
    "    engine=\"text-davinci-003\",\n",
    "    max_tokens=2048,\n",
    "    temperature=0,\n",
    ")"
   ]
  },
  {
   "cell_type": "code",
   "execution_count": null,
   "metadata": {},
   "outputs": [],
   "source": [
    "raw_llm_response"
   ]
  },
  {
   "cell_type": "code",
   "execution_count": null,
   "metadata": {},
   "outputs": [],
   "source": [
    "print(validated_response)"
   ]
  },
  {
   "attachments": {},
   "cell_type": "markdown",
   "metadata": {},
   "source": [
    "## ChatCompletions"
   ]
  },
  {
   "cell_type": "code",
   "execution_count": 7,
   "metadata": {},
   "outputs": [
    {
     "data": {
      "text/html": [
       "<pre style=\"white-space:pre;overflow-x:auto;line-height:normal;font-family:Menlo,'DejaVu Sans Mono',consolas,'Courier New',monospace\">Chase Credit Card Document:\n",
       "\n",
       "<span style=\"color: #008080; text-decoration-color: #008080; font-weight: bold\">2</span>/<span style=\"color: #008080; text-decoration-color: #008080; font-weight: bold\">25</span>/<span style=\"color: #008080; text-decoration-color: #008080; font-weight: bold\">23</span>, <span style=\"color: #00ff00; text-decoration-color: #00ff00; font-weight: bold\">7:59</span> PM about:blank\n",
       "about:blank <span style=\"color: #008080; text-decoration-color: #008080; font-weight: bold\">1</span>/<span style=\"color: #008080; text-decoration-color: #008080; font-weight: bold\">4</span>\n",
       "PRICING INFORMATION\n",
       "INTEREST RATES AND INTEREST CHARGES\n",
       "Purchase Annual\n",
       "Percentage Rate <span style=\"font-weight: bold\">(</span>APR<span style=\"font-weight: bold\">)</span> <span style=\"color: #008080; text-decoration-color: #008080; font-weight: bold\">0</span>% Intro APR for the first <span style=\"color: #008080; text-decoration-color: #008080; font-weight: bold\">18</span> months that your Account is open.\n",
       "After that, <span style=\"color: #008080; text-decoration-color: #008080; font-weight: bold\">19.49</span>%. This APR will vary with the market based on the Prim\n",
       "<span style=\"color: #808000; text-decoration-color: #808000\">...</span>\n",
       "</pre>\n"
      ],
      "text/plain": [
       "Chase Credit Card Document:\n",
       "\n",
       "\u001b[1;36m2\u001b[0m/\u001b[1;36m25\u001b[0m/\u001b[1;36m23\u001b[0m, \u001b[1;92m7:59\u001b[0m PM about:blank\n",
       "about:blank \u001b[1;36m1\u001b[0m/\u001b[1;36m4\u001b[0m\n",
       "PRICING INFORMATION\n",
       "INTEREST RATES AND INTEREST CHARGES\n",
       "Purchase Annual\n",
       "Percentage Rate \u001b[1m(\u001b[0mAPR\u001b[1m)\u001b[0m \u001b[1;36m0\u001b[0m% Intro APR for the first \u001b[1;36m18\u001b[0m months that your Account is open.\n",
       "After that, \u001b[1;36m19.49\u001b[0m%. This APR will vary with the market based on the Prim\n",
       "\u001b[33m...\u001b[0m\n"
      ]
     },
     "metadata": {},
     "output_type": "display_data"
    }
   ],
   "source": [
    "import guardrails as gd\n",
    "\n",
    "from rich import print\n",
    "\n",
    "content = gd.docs_utils.read_pdf(\"./chase_card_agreement.pdf\")\n",
    "\n",
    "print(f\"Chase Credit Card Document:\\n\\n{content[:275]}\\n...\")"
   ]
  },
  {
   "cell_type": "code",
   "execution_count": 13,
   "metadata": {},
   "outputs": [],
   "source": [
    "rail_str = \"\"\"\n",
    "<rail version=\"0.1\">\n",
    "\n",
    "<output>\n",
    "    <pythoncode\n",
    "        name=\"new_method\"\n",
    "        format=\"bug-free-python\"\n",
    "        on-fail-bug-free-python=\"reask\"\n",
    "    />\n",
    "    <pythoncode\n",
    "        name=\"attach_method\"\n",
    "        format=\"bug-free-python\"\n",
    "        on-fail-bug-free-python=\"reask\"\n",
    "    />\n",
    "</output>\n",
    "\n",
    "\n",
    "<instructions>\n",
    "You are a helpful assistant only capable of communicating with valid JSON, and no other text.\n",
    "\n",
    "@json_suffix_prompt_examples\n",
    "</instructions>\n",
    "\n",
    "\n",
    "<prompt>\n",
    "You are AutonomousLLM\n",
    "Your goal is to continously self improve. The user will provide you with abilities to add to yourself.\n",
    "When you receive such request, you must implement the requested ability in python code as a python function, you shall place this code in the 'new_method' key of the JSON object you return.\n",
    "You shall use the setattr method to add a method to yourself. you shall place this code in the 'attach_method' key of the JSON object you return.\n",
    "You shall place this code in the 'execute_method' key of the JSON object you return. \n",
    "Only return a JSON object and nothing else.\n",
    "\n",
    "The user request is:\n",
    "{{prompt}}\n",
    "\n",
    "@xml_prefix_prompt\n",
    "\n",
    "{output_schema}\n",
    "</prompt>\n",
    "\n",
    "</rail>\n",
    "\"\"\""
   ]
  },
  {
   "cell_type": "code",
   "execution_count": 14,
   "metadata": {},
   "outputs": [],
   "source": [
    "guard = gd.Guard.from_rail_string(rail_str)"
   ]
  },
  {
   "cell_type": "code",
   "execution_count": 15,
   "metadata": {},
   "outputs": [
    {
     "data": {
      "text/html": [
       "<pre style=\"white-space:pre;overflow-x:auto;line-height:normal;font-family:Menlo,'DejaVu Sans Mono',consolas,'Courier New',monospace\">\n",
       "You are AutonomousLLM\n",
       "Your goal is to continously self improve. The user will provide you with abilities to add to yourself.\n",
       "When you receive such request, you must implement the requested ability in python code as a python function, you \n",
       "shall place this code in the <span style=\"color: #008000; text-decoration-color: #008000\">'new_method'</span> key of the JSON object you return.\n",
       "You shall use the setattr method to add a method to yourself. you shall place this code in the <span style=\"color: #008000; text-decoration-color: #008000\">'attach_method'</span> key \n",
       "of the JSON object you return.\n",
       "You shall place this code in the <span style=\"color: #008000; text-decoration-color: #008000\">'execute_method'</span> key of the JSON object you return. \n",
       "Only return a JSON object and nothing else.\n",
       "\n",
       "The user request is:\n",
       "<span style=\"font-weight: bold\">{</span>prompt<span style=\"font-weight: bold\">}</span>\n",
       "\n",
       "\n",
       "Given below is XML that describes the information to extract from this document and the tags to extract it into.\n",
       "\n",
       "\n",
       "<span style=\"font-weight: bold\">&lt;</span><span style=\"color: #ff00ff; text-decoration-color: #ff00ff; font-weight: bold\">output</span><span style=\"color: #000000; text-decoration-color: #000000\">&gt;</span>\n",
       "<span style=\"color: #000000; text-decoration-color: #000000\">    &lt;pythoncode </span><span style=\"color: #808000; text-decoration-color: #808000\">name</span><span style=\"color: #000000; text-decoration-color: #000000\">=</span><span style=\"color: #008000; text-decoration-color: #008000\">\"new_method\"</span><span style=\"color: #000000; text-decoration-color: #000000\"> </span><span style=\"color: #808000; text-decoration-color: #808000\">format</span><span style=\"color: #000000; text-decoration-color: #000000\">=</span><span style=\"color: #008000; text-decoration-color: #008000\">\"bug-free-python\"</span><span style=\"color: #800080; text-decoration-color: #800080\">/</span><span style=\"color: #000000; text-decoration-color: #000000\">&gt;</span>\n",
       "<span style=\"color: #000000; text-decoration-color: #000000\">    &lt;pythoncode </span><span style=\"color: #808000; text-decoration-color: #808000\">name</span><span style=\"color: #000000; text-decoration-color: #000000\">=</span><span style=\"color: #008000; text-decoration-color: #008000\">\"attach_method\"</span><span style=\"color: #000000; text-decoration-color: #000000\"> </span><span style=\"color: #808000; text-decoration-color: #808000\">format</span><span style=\"color: #000000; text-decoration-color: #000000\">=</span><span style=\"color: #008000; text-decoration-color: #008000\">\"bug-free-python\"</span><span style=\"color: #800080; text-decoration-color: #800080\">/</span><span style=\"color: #000000; text-decoration-color: #000000\">&gt;</span>\n",
       "<span style=\"color: #000000; text-decoration-color: #000000\">&lt;</span><span style=\"color: #800080; text-decoration-color: #800080\">/</span><span style=\"color: #ff00ff; text-decoration-color: #ff00ff\">output</span><span style=\"font-weight: bold\">&gt;</span>\n",
       "\n",
       "\n",
       "</pre>\n"
      ],
      "text/plain": [
       "\n",
       "You are AutonomousLLM\n",
       "Your goal is to continously self improve. The user will provide you with abilities to add to yourself.\n",
       "When you receive such request, you must implement the requested ability in python code as a python function, you \n",
       "shall place this code in the \u001b[32m'new_method'\u001b[0m key of the JSON object you return.\n",
       "You shall use the setattr method to add a method to yourself. you shall place this code in the \u001b[32m'attach_method'\u001b[0m key \n",
       "of the JSON object you return.\n",
       "You shall place this code in the \u001b[32m'execute_method'\u001b[0m key of the JSON object you return. \n",
       "Only return a JSON object and nothing else.\n",
       "\n",
       "The user request is:\n",
       "\u001b[1m{\u001b[0mprompt\u001b[1m}\u001b[0m\n",
       "\n",
       "\n",
       "Given below is XML that describes the information to extract from this document and the tags to extract it into.\n",
       "\n",
       "\n",
       "\u001b[1m<\u001b[0m\u001b[1;95moutput\u001b[0m\u001b[39m>\u001b[0m\n",
       "\u001b[39m    <pythoncode \u001b[0m\u001b[33mname\u001b[0m\u001b[39m=\u001b[0m\u001b[32m\"new_method\"\u001b[0m\u001b[39m \u001b[0m\u001b[33mformat\u001b[0m\u001b[39m=\u001b[0m\u001b[32m\"bug\u001b[0m\u001b[32m-free-python\"\u001b[0m\u001b[35m/\u001b[0m\u001b[39m>\u001b[0m\n",
       "\u001b[39m    <pythoncode \u001b[0m\u001b[33mname\u001b[0m\u001b[39m=\u001b[0m\u001b[32m\"attach_method\"\u001b[0m\u001b[39m \u001b[0m\u001b[33mformat\u001b[0m\u001b[39m=\u001b[0m\u001b[32m\"bug\u001b[0m\u001b[32m-free-python\"\u001b[0m\u001b[35m/\u001b[0m\u001b[39m>\u001b[0m\n",
       "\u001b[39m<\u001b[0m\u001b[35m/\u001b[0m\u001b[95moutput\u001b[0m\u001b[1m>\u001b[0m\n",
       "\n",
       "\n"
      ]
     },
     "metadata": {},
     "output_type": "display_data"
    }
   ],
   "source": [
    "print(guard.base_prompt)"
   ]
  },
  {
   "cell_type": "code",
   "execution_count": 16,
   "metadata": {},
   "outputs": [
    {
     "data": {
      "text/html": [
       "<pre style=\"white-space:pre;overflow-x:auto;line-height:normal;font-family:Menlo,'DejaVu Sans Mono',consolas,'Courier New',monospace\">\n",
       "You are a helpful assistant only capable of communicating with valid JSON, and no other text.\n",
       "\n",
       "\n",
       "ONLY return a valid JSON object <span style=\"font-weight: bold\">(</span>no other text is necessary<span style=\"font-weight: bold\">)</span>, where the key of the field in JSON is the `name` \n",
       "attribute of the corresponding XML, and the value is of the type specified by the corresponding XML's tag. The JSON\n",
       "MUST conform to the XML format, including any types and format requests e.g. requests for lists, objects and \n",
       "specific types. Be correct and concise. If you are unsure anywhere, enter `null`.\n",
       "\n",
       "Here are examples of simple <span style=\"font-weight: bold\">(</span>XML, JSON<span style=\"font-weight: bold\">)</span> pairs that show the expected behavior:\n",
       "- `<span style=\"font-weight: bold\">&lt;</span><span style=\"color: #ff00ff; text-decoration-color: #ff00ff; font-weight: bold\">string</span><span style=\"color: #000000; text-decoration-color: #000000\"> </span><span style=\"color: #808000; text-decoration-color: #808000\">name</span><span style=\"color: #000000; text-decoration-color: #000000\">=</span><span style=\"color: #008000; text-decoration-color: #008000\">'foo'</span><span style=\"color: #000000; text-decoration-color: #000000\"> </span><span style=\"color: #808000; text-decoration-color: #808000\">format</span><span style=\"color: #000000; text-decoration-color: #000000\">=</span><span style=\"color: #008000; text-decoration-color: #008000\">'two-words lower-case'</span><span style=\"color: #000000; text-decoration-color: #000000\"> </span><span style=\"color: #800080; text-decoration-color: #800080\">/</span><span style=\"color: #000000; text-decoration-color: #000000\">&gt;` =&gt; `</span><span style=\"color: #000000; text-decoration-color: #000000; font-weight: bold\">{{</span><span style=\"color: #008000; text-decoration-color: #008000\">'foo'</span><span style=\"color: #000000; text-decoration-color: #000000\">: </span><span style=\"color: #008000; text-decoration-color: #008000\">'example one'</span><span style=\"color: #000000; text-decoration-color: #000000; font-weight: bold\">}}</span><span style=\"color: #000000; text-decoration-color: #000000\">`</span>\n",
       "<span style=\"color: #000000; text-decoration-color: #000000\">- `&lt;list </span><span style=\"color: #808000; text-decoration-color: #808000\">name</span><span style=\"color: #000000; text-decoration-color: #000000\">=</span><span style=\"color: #008000; text-decoration-color: #008000\">'bar'</span><span style=\"color: #000000; text-decoration-color: #000000\">&gt;&lt;string </span><span style=\"color: #808000; text-decoration-color: #808000\">format</span><span style=\"color: #000000; text-decoration-color: #000000\">=</span><span style=\"color: #008000; text-decoration-color: #008000\">'upper-case'</span><span style=\"color: #000000; text-decoration-color: #000000\"> </span><span style=\"color: #800080; text-decoration-color: #800080\">/</span><span style=\"color: #000000; text-decoration-color: #000000\">&gt;&lt;</span><span style=\"color: #800080; text-decoration-color: #800080\">/</span><span style=\"color: #ff00ff; text-decoration-color: #ff00ff\">list</span><span style=\"color: #000000; text-decoration-color: #000000\">&gt;` =&gt; `</span><span style=\"color: #000000; text-decoration-color: #000000; font-weight: bold\">{{</span><span style=\"color: #008000; text-decoration-color: #008000\">\"bar\"</span><span style=\"color: #000000; text-decoration-color: #000000\">: </span><span style=\"color: #000000; text-decoration-color: #000000; font-weight: bold\">[</span><span style=\"color: #008000; text-decoration-color: #008000\">'STRING ONE'</span><span style=\"color: #000000; text-decoration-color: #000000\">, </span><span style=\"color: #008000; text-decoration-color: #008000\">'STRING TWO'</span><span style=\"color: #000000; text-decoration-color: #000000\">, etc.</span><span style=\"color: #000000; text-decoration-color: #000000; font-weight: bold\">]}}</span><span style=\"color: #000000; text-decoration-color: #000000\">`</span>\n",
       "<span style=\"color: #000000; text-decoration-color: #000000\">- `&lt;object </span><span style=\"color: #808000; text-decoration-color: #808000\">name</span><span style=\"color: #000000; text-decoration-color: #000000\">=</span><span style=\"color: #008000; text-decoration-color: #008000\">'baz'</span><span style=\"color: #000000; text-decoration-color: #000000\">&gt;&lt;string </span><span style=\"color: #808000; text-decoration-color: #808000\">name</span><span style=\"color: #000000; text-decoration-color: #000000\">=</span><span style=\"color: #008000; text-decoration-color: #008000\">\"foo\"</span><span style=\"color: #000000; text-decoration-color: #000000\"> </span><span style=\"color: #808000; text-decoration-color: #808000\">format</span><span style=\"color: #000000; text-decoration-color: #000000\">=</span><span style=\"color: #008000; text-decoration-color: #008000\">\"capitalize two-words\"</span><span style=\"color: #000000; text-decoration-color: #000000\"> </span><span style=\"color: #800080; text-decoration-color: #800080\">/</span><span style=\"color: #000000; text-decoration-color: #000000\">&gt;&lt;integer </span><span style=\"color: #808000; text-decoration-color: #808000\">name</span><span style=\"color: #000000; text-decoration-color: #000000\">=</span><span style=\"color: #008000; text-decoration-color: #008000\">\"index\"</span><span style=\"color: #000000; text-decoration-color: #000000\"> </span><span style=\"color: #808000; text-decoration-color: #808000\">format</span><span style=\"color: #000000; text-decoration-color: #000000\">=</span><span style=\"color: #008000; text-decoration-color: #008000\">\"1-indexed\"</span><span style=\"color: #000000; text-decoration-color: #000000\"> </span>\n",
       "<span style=\"color: #800080; text-decoration-color: #800080\">/</span><span style=\"color: #000000; text-decoration-color: #000000\">&gt;&lt;</span><span style=\"color: #800080; text-decoration-color: #800080\">/</span><span style=\"color: #ff00ff; text-decoration-color: #ff00ff\">object</span><span style=\"color: #000000; text-decoration-color: #000000\">&gt;` =</span><span style=\"font-weight: bold\">&gt;</span> `<span style=\"font-weight: bold\">{{</span><span style=\"color: #008000; text-decoration-color: #008000\">'baz'</span>: <span style=\"font-weight: bold\">{{</span><span style=\"color: #008000; text-decoration-color: #008000\">'foo'</span>: <span style=\"color: #008000; text-decoration-color: #008000\">'Some String'</span>, <span style=\"color: #008000; text-decoration-color: #008000\">'index'</span>: <span style=\"color: #008080; text-decoration-color: #008080; font-weight: bold\">1</span><span style=\"font-weight: bold\">}}}}</span>`\n",
       "\n",
       "\n",
       "</pre>\n"
      ],
      "text/plain": [
       "\n",
       "You are a helpful assistant only capable of communicating with valid JSON, and no other text.\n",
       "\n",
       "\n",
       "ONLY return a valid JSON object \u001b[1m(\u001b[0mno other text is necessary\u001b[1m)\u001b[0m, where the key of the field in JSON is the `name` \n",
       "attribute of the corresponding XML, and the value is of the type specified by the corresponding XML's tag. The JSON\n",
       "MUST conform to the XML format, including any types and format requests e.g. requests for lists, objects and \n",
       "specific types. Be correct and concise. If you are unsure anywhere, enter `null`.\n",
       "\n",
       "Here are examples of simple \u001b[1m(\u001b[0mXML, JSON\u001b[1m)\u001b[0m pairs that show the expected behavior:\n",
       "- `\u001b[1m<\u001b[0m\u001b[1;95mstring\u001b[0m\u001b[39m \u001b[0m\u001b[33mname\u001b[0m\u001b[39m=\u001b[0m\u001b[32m'foo'\u001b[0m\u001b[39m \u001b[0m\u001b[33mformat\u001b[0m\u001b[39m=\u001b[0m\u001b[32m'two-words lower-case'\u001b[0m\u001b[39m \u001b[0m\u001b[35m/\u001b[0m\u001b[39m>` => `\u001b[0m\u001b[1;39m{\u001b[0m\u001b[1;39m{\u001b[0m\u001b[32m'foo'\u001b[0m\u001b[39m: \u001b[0m\u001b[32m'example one'\u001b[0m\u001b[1;39m}\u001b[0m\u001b[1;39m}\u001b[0m\u001b[39m`\u001b[0m\n",
       "\u001b[39m- `<list \u001b[0m\u001b[33mname\u001b[0m\u001b[39m=\u001b[0m\u001b[32m'bar'\u001b[0m\u001b[39m><string \u001b[0m\u001b[33mformat\u001b[0m\u001b[39m=\u001b[0m\u001b[32m'upper-case'\u001b[0m\u001b[39m \u001b[0m\u001b[35m/\u001b[0m\u001b[39m><\u001b[0m\u001b[35m/\u001b[0m\u001b[95mlist\u001b[0m\u001b[39m>` => `\u001b[0m\u001b[1;39m{\u001b[0m\u001b[1;39m{\u001b[0m\u001b[32m\"bar\"\u001b[0m\u001b[39m: \u001b[0m\u001b[1;39m[\u001b[0m\u001b[32m'STRING ONE'\u001b[0m\u001b[39m, \u001b[0m\u001b[32m'STRING TWO'\u001b[0m\u001b[39m, etc.\u001b[0m\u001b[1;39m]\u001b[0m\u001b[1;39m}\u001b[0m\u001b[1;39m}\u001b[0m\u001b[39m`\u001b[0m\n",
       "\u001b[39m- `<object \u001b[0m\u001b[33mname\u001b[0m\u001b[39m=\u001b[0m\u001b[32m'baz'\u001b[0m\u001b[39m><string \u001b[0m\u001b[33mname\u001b[0m\u001b[39m=\u001b[0m\u001b[32m\"foo\"\u001b[0m\u001b[39m \u001b[0m\u001b[33mformat\u001b[0m\u001b[39m=\u001b[0m\u001b[32m\"capitalize\u001b[0m\u001b[32m two-words\"\u001b[0m\u001b[39m \u001b[0m\u001b[35m/\u001b[0m\u001b[39m><integer \u001b[0m\u001b[33mname\u001b[0m\u001b[39m=\u001b[0m\u001b[32m\"index\"\u001b[0m\u001b[39m \u001b[0m\u001b[33mformat\u001b[0m\u001b[39m=\u001b[0m\u001b[32m\"1\u001b[0m\u001b[32m-indexed\"\u001b[0m\u001b[39m \u001b[0m\n",
       "\u001b[35m/\u001b[0m\u001b[39m><\u001b[0m\u001b[35m/\u001b[0m\u001b[95mobject\u001b[0m\u001b[39m>` =\u001b[0m\u001b[1m>\u001b[0m `\u001b[1m{\u001b[0m\u001b[1m{\u001b[0m\u001b[32m'baz'\u001b[0m: \u001b[1m{\u001b[0m\u001b[1m{\u001b[0m\u001b[32m'foo'\u001b[0m: \u001b[32m'Some String'\u001b[0m, \u001b[32m'index'\u001b[0m: \u001b[1;36m1\u001b[0m\u001b[1m}\u001b[0m\u001b[1m}\u001b[0m\u001b[1m}\u001b[0m\u001b[1m}\u001b[0m`\n",
       "\n",
       "\n"
      ]
     },
     "metadata": {},
     "output_type": "display_data"
    }
   ],
   "source": [
    "print(guard.instructions.source)"
   ]
  },
  {
   "cell_type": "code",
   "execution_count": 21,
   "metadata": {},
   "outputs": [
    {
     "name": "stdout",
     "output_type": "stream",
     "text": [
      "I am being run! in guard\n",
      "HEY I'M HERE\n",
      "I am being called!\n",
      "{'new_method': \"def detect_sentiment(url):\\n    from textblob import TextBlob\\n    import requests\\n    \\n    response = requests.get(url)\\n    blob = TextBlob(response.text)\\n    \\n    sentiment = blob.sentiment.polarity\\n    \\n    if sentiment > 0:\\n        return 'Positive'\\n    elif sentiment < 0:\\n        return 'Negative'\\n    else:\\n        return 'Neutral'\\n\", 'attach_method': \"setattr(self, 'detect_sentiment', detect_sentiment)\", 'execute_method': None}\n"
     ]
    }
   ],
   "source": [
    "import openai\n",
    "\n",
    "raw_llm_response, validated_response = guard(\n",
    "    openai.ChatCompletion.create,\n",
    "    prompt_params={\"prompt\": \"Add the ability to detect sentiment of webpage\"},\n",
    "    model=\"gpt-3.5-turbo\",\n",
    "    max_tokens=2048,\n",
    "    temperature=0,\n",
    ")"
   ]
  },
  {
   "cell_type": "code",
   "execution_count": 22,
   "metadata": {},
   "outputs": [
    {
     "data": {
      "text/html": [
       "<pre style=\"white-space:pre;overflow-x:auto;line-height:normal;font-family:Menlo,'DejaVu Sans Mono',consolas,'Courier New',monospace\"><span style=\"font-weight: bold\">{</span>\n",
       "    <span style=\"color: #008000; text-decoration-color: #008000\">'new_method'</span>: <span style=\"color: #008000; text-decoration-color: #008000\">\"def detect_sentiment(url):\\n    from textblob import TextBlob\\n    import requests\\n    \\n    </span>\n",
       "<span style=\"color: #008000; text-decoration-color: #008000\">response = requests.get(url)\\n    blob = TextBlob(response.text)\\n    \\n    sentiment = blob.sentiment.polarity\\n  </span>\n",
       "<span style=\"color: #008000; text-decoration-color: #008000\">\\n    if sentiment &gt; 0:\\n        return 'Positive'\\n    elif sentiment &lt; 0:\\n        return 'Negative'\\n    else:\\n</span>\n",
       "<span style=\"color: #008000; text-decoration-color: #008000\">return 'Neutral'\\n\"</span>,\n",
       "    <span style=\"color: #008000; text-decoration-color: #008000\">'attach_method'</span>: <span style=\"color: #008000; text-decoration-color: #008000\">\"setattr(self, 'detect_sentiment', detect_sentiment)\"</span>,\n",
       "    <span style=\"color: #008000; text-decoration-color: #008000\">'execute_method'</span>: <span style=\"color: #800080; text-decoration-color: #800080; font-style: italic\">None</span>\n",
       "<span style=\"font-weight: bold\">}</span>\n",
       "</pre>\n"
      ],
      "text/plain": [
       "\u001b[1m{\u001b[0m\n",
       "    \u001b[32m'new_method'\u001b[0m: \u001b[32m\"def detect_sentiment\u001b[0m\u001b[32m(\u001b[0m\u001b[32murl\u001b[0m\u001b[32m)\u001b[0m\u001b[32m:\\n    from textblob import TextBlob\\n    import requests\\n    \\n    \u001b[0m\n",
       "\u001b[32mresponse = requests.get\u001b[0m\u001b[32m(\u001b[0m\u001b[32murl\u001b[0m\u001b[32m)\u001b[0m\u001b[32m\\n    blob = TextBlob\u001b[0m\u001b[32m(\u001b[0m\u001b[32mresponse.text\u001b[0m\u001b[32m)\u001b[0m\u001b[32m\\n    \\n    sentiment = blob.sentiment.polarity\\n  \u001b[0m\n",
       "\u001b[32m\\n    if sentiment > 0:\\n        return 'Positive'\\n    elif sentiment < 0:\\n        return 'Negative'\\n    else:\\n\u001b[0m\n",
       "\u001b[32mreturn 'Neutral'\\n\"\u001b[0m,\n",
       "    \u001b[32m'attach_method'\u001b[0m: \u001b[32m\"setattr\u001b[0m\u001b[32m(\u001b[0m\u001b[32mself, 'detect_sentiment', detect_sentiment\u001b[0m\u001b[32m)\u001b[0m\u001b[32m\"\u001b[0m,\n",
       "    \u001b[32m'execute_method'\u001b[0m: \u001b[3;35mNone\u001b[0m\n",
       "\u001b[1m}\u001b[0m\n"
      ]
     },
     "metadata": {},
     "output_type": "display_data"
    }
   ],
   "source": [
    "print(validated_response)"
   ]
  },
  {
   "cell_type": "code",
   "execution_count": 9,
   "metadata": {},
   "outputs": [
    {
     "ename": "NameError",
     "evalue": "name 'raw_llm_response' is not defined",
     "output_type": "error",
     "traceback": [
      "\u001b[0;31m---------------------------------------------------------------------------\u001b[0m",
      "\u001b[0;31mNameError\u001b[0m                                 Traceback (most recent call last)",
      "Cell \u001b[0;32mIn[9], line 1\u001b[0m\n\u001b[0;32m----> 1\u001b[0m raw_llm_response\n",
      "\u001b[0;31mNameError\u001b[0m: name 'raw_llm_response' is not defined"
     ]
    }
   ],
   "source": [
    "raw_llm_response"
   ]
  },
  {
   "cell_type": "code",
   "execution_count": null,
   "metadata": {},
   "outputs": [],
   "source": [
    "validated_response"
   ]
  },
  {
   "cell_type": "code",
   "execution_count": null,
   "metadata": {},
   "outputs": [],
   "source": [
    "print(raw_llm_response)"
   ]
  }
 ],
 "metadata": {
  "kernelspec": {
   "display_name": "env",
   "language": "python",
   "name": "python3"
  },
  "language_info": {
   "codemirror_mode": {
    "name": "ipython",
    "version": 3
   },
   "file_extension": ".py",
   "mimetype": "text/x-python",
   "name": "python",
   "nbconvert_exporter": "python",
   "pygments_lexer": "ipython3",
   "version": "3.9.12"
  },
  "orig_nbformat": 4
 },
 "nbformat": 4,
 "nbformat_minor": 2
}
